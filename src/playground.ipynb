{
 "cells": [
  {
   "cell_type": "code",
   "execution_count": 11,
   "metadata": {},
   "outputs": [],
   "source": [
    "from block_md import (\n",
    "    split_block_markdown,\n",
    "    block_to_block_type,\n",
    "    block_type_paragraph,\n",
    "    block_type_heading,\n",
    "    block_type_code,\n",
    "    block_type_quote,\n",
    "    block_type_unord_list,\n",
    "    block_type_ord_list,\n",
    "    markdown_to_html_node,\n",
    ")"
   ]
  },
  {
   "cell_type": "code",
   "execution_count": 36,
   "metadata": {},
   "outputs": [],
   "source": [
    "block_type_paragraph = \"paragraph\"\n",
    "block_type_heading = \"heading\"\n",
    "block_type_code = \"code\"\n",
    "block_type_quote = \"quote\"\n",
    "block_type_unord_list = \"unordered_list\"\n",
    "block_type_ord_list = \"ordered_list\"\n",
    "\n",
    "def block_to_block_type(md_block):\n",
    "    def block_is_quote(md):\n",
    "        for line in md.split(\"\\n\"):\n",
    "            if line[0] != \">\":\n",
    "                return False\n",
    "        return True\n",
    "\n",
    "    def block_is_unord(md):\n",
    "        for line in md.split(\"\\n\"):\n",
    "            if line[0] not in \"*-\":\n",
    "                return False\n",
    "        return True\n",
    "\n",
    "    def block_is_ord(md):\n",
    "        n = 1\n",
    "        for line in md.split(\"\\n\"):\n",
    "            line = line.split(\".\", 1)\n",
    "            if str(n) != line[0]:\n",
    "                return False\n",
    "            n += 1\n",
    "        return True\n",
    "    \n",
    "    if md_block[0] == \"#\":\n",
    "        return block_type_heading\n",
    "    if md_block[0:3] == \"```\" and md_block[-3:]:\n",
    "        return block_type_code\n",
    "    if block_is_quote(md_block):\n",
    "        return block_type_quote\n",
    "    if block_is_unord(md_block):\n",
    "        return block_type_unord_list\n",
    "    if block_is_ord(md_block):\n",
    "        return block_type_ord_list\n",
    "    return block_type_paragraph\n"
   ]
  },
  {
   "cell_type": "code",
   "execution_count": 37,
   "metadata": {},
   "outputs": [
    {
     "name": "stdout",
     "output_type": "stream",
     "text": [
      "ordered_list\n"
     ]
    }
   ],
   "source": [
    "block = \"1. list\\n2. items\"\n",
    "\n",
    "print(block_to_block_type(block))"
   ]
  },
  {
   "cell_type": "code",
   "execution_count": 7,
   "metadata": {},
   "outputs": [
    {
     "name": "stdout",
     "output_type": "stream",
     "text": [
      "This is **some** part of a blockquote.\n",
      "Some more stuff.\n"
     ]
    }
   ],
   "source": [
    "t = '''> This is **some** part of a blockquote.\n",
    "> Some more stuff.'''\n",
    "\n",
    "lines = t.split(\"\\n\")\n",
    "for i in range(len(lines)):\n",
    "    lines[i] = lines[i].strip(\"> \")\n",
    "print('\\n'.join(lines))"
   ]
  },
  {
   "cell_type": "code",
   "execution_count": 10,
   "metadata": {},
   "outputs": [
    {
     "name": "stdout",
     "output_type": "stream",
     "text": [
      "thing\n",
      "*other*\n"
     ]
    }
   ],
   "source": [
    "md = '''* thing\n",
    "- *other*'''\n",
    "lines = md.split('\\n')\n",
    "for line in lines:\n",
    "     line = line.split(' ', 1)\n",
    "     print(line[1])"
   ]
  },
  {
   "cell_type": "code",
   "execution_count": 15,
   "metadata": {},
   "outputs": [
    {
     "name": "stdout",
     "output_type": "stream",
     "text": [
      "<div><p></p></div>\n"
     ]
    }
   ],
   "source": [
    "md = \"\"\"\n",
    "This is **bolded** paragraph\n",
    "text in a p\n",
    "tag here\n",
    "\n",
    "\"\"\"\n",
    "\n",
    "node = markdown_to_html_node(md)\n",
    "html = node.to_html()\n",
    "print(html)\n",
    "# self.assertEqual(\n",
    "# html,\n",
    "# \"<div><p>This is <b>bolded</b> paragraph text in a p tag here</p></div>\",\n",
    "# )"
   ]
  },
  {
   "cell_type": "code",
   "execution_count": 36,
   "metadata": {},
   "outputs": [
    {
     "name": "stdout",
     "output_type": "stream",
     "text": [
      "['- This is a list', '- with items', '- and *more* items']\n"
     ]
    }
   ],
   "source": [
    "# md = \"\"\"\n",
    "#     - This is a list\n",
    "#     - with items\n",
    "#     - and *more* items\n",
    "\n",
    "#     1. This is an `ordered` list\n",
    "#     2. with items\n",
    "#     3. and more items\n",
    "\n",
    "#     \"\"\"\n",
    "\n",
    "md = '- This is a list\\n- with items\\n- and *more* items'\n",
    "lines = md.split('\\n')\n",
    "print(lines)\n",
    "\n"
   ]
  },
  {
   "cell_type": "code",
   "execution_count": null,
   "metadata": {},
   "outputs": [],
   "source": []
  }
 ],
 "metadata": {
  "kernelspec": {
   "display_name": "Python 3",
   "language": "python",
   "name": "python3"
  },
  "language_info": {
   "codemirror_mode": {
    "name": "ipython",
    "version": 3
   },
   "file_extension": ".py",
   "mimetype": "text/x-python",
   "name": "python",
   "nbconvert_exporter": "python",
   "pygments_lexer": "ipython3",
   "version": "3.12.2"
  }
 },
 "nbformat": 4,
 "nbformat_minor": 2
}
